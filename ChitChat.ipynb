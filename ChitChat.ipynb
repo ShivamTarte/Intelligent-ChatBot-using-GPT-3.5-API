{
 "cells": [
  {
   "cell_type": "code",
   "execution_count": 1,
   "metadata": {},
   "outputs": [],
   "source": [
    "from POE import load_chat_id_map, clear_context, send_message, get_latest_message, set_auth\n",
    "\n",
    "set_auth('Quora-Formkey','*************')\n",
    "set_auth('Cookie','m-b=***************')"
   ]
  },
  {
   "cell_type": "code",
   "execution_count": 2,
   "metadata": {},
   "outputs": [],
   "source": [
    "bot='chinchilla'\n",
    "chat_id = load_chat_id_map(bot)"
   ]
  },
  {
   "cell_type": "code",
   "execution_count": 3,
   "metadata": {},
   "outputs": [
    {
     "name": "stderr",
     "output_type": "stream",
     "text": [
      "Could not import azure.core python package.\n"
     ]
    }
   ],
   "source": [
    "from langchain import PromptTemplate\n"
   ]
  },
  {
   "cell_type": "code",
   "execution_count": 16,
   "metadata": {},
   "outputs": [],
   "source": [
    "def answer(Context,Question):\n",
    "    template=\"\"\"Instructions:Based on the context,answer the question. However, if the question is not related to the context provided, please answer it independently.Answer in less than 35 words\n",
    "    Input:\n",
    "    Context: {Context},\n",
    "    Question: {Question}\"\"\"\n",
    "    prompt=PromptTemplate(\n",
    "        input_variables=[\"Context\",\"Question\"], \n",
    "        template=template\n",
    "        )\n",
    "    clear_context(chat_id)\n",
    "    send_message(prompt.format(Context=Context,Question=Question),bot,chat_id)\n",
    "    # reply = get_latest_message(bot)\n",
    "    \n",
    "    # clear_context(chat_id)\n",
    "    # send_message(reply,bot,chat_id)\n",
    "    reply = get_latest_message(bot)\n",
    "    lst1.append(\"ChitChat:\"+reply+\"\\n\")\n",
    "    print(lst1[-1])\n",
    "    lst.append(reply)\n",
    "    "
   ]
  },
  {
   "cell_type": "code",
   "execution_count": 17,
   "metadata": {},
   "outputs": [],
   "source": [
    "\n",
    "def related(Question,Context):\n",
    "    template=\"\"\"Instructions:\n",
    "    Consider if the answer to Q2 can be inferred or derived from the information provided in A. \n",
    "    If the answer to Q2 can be given by using logical reasoning or general knowledge without directly referencing A, respond with the one word as \"Unrelated\" \n",
    "    Otherwise, if the answer to Q2 relies on the specific information mentioned in A, respond with the one word as \"Related\"\n",
    "    \"A\": {A},\n",
    "    \"Q2\": {Q},\n",
    "    \"\"\"\n",
    "    prompt=PromptTemplate(\n",
    "    input_variables=[\"Q\",\"A\"], \n",
    "    template=template\n",
    "    )\n",
    "    clear_context(chat_id)\n",
    "    send_message(prompt.format(Q=Question,A=Context),bot,chat_id)\n",
    "    reply = get_latest_message(bot)\n",
    "    reply=reply.split()\n",
    "    # print(reply)\n",
    "    if reply[0] == \"Related.\":\n",
    "        answer(Context,Question)\n",
    "        return 1\n",
    "    else:\n",
    "        return 0\n",
    "    "
   ]
  },
  {
   "cell_type": "code",
   "execution_count": 18,
   "metadata": {},
   "outputs": [],
   "source": [
    "def replyBot(Question):\n",
    "    template=\"\"\"Instructions:\n",
    "    Text-{Question}\n",
    "    Read the provided Text.\n",
    "    Determine if the \"Text\" is question or statement\n",
    "    If it is question, respond with the one word as \"Question\"\n",
    "    If it is statement,respond with the one word as \"Statement\"\n",
    "    \"\"\"\n",
    "    \n",
    "    prompt=PromptTemplate(\n",
    "    input_variables=[\"Question\"], \n",
    "    template=template\n",
    "    )\n",
    "    \n",
    "    clear_context(chat_id)\n",
    "    send_message(prompt.format(Question=Question),bot,chat_id)\n",
    "    reply = get_latest_message(bot)\n",
    "    reply=reply.split()\n",
    "    if reply[0] == \"Statment\":\n",
    "        lst.append(Question)\n",
    "    \n",
    "    template=\"\"\"Instructions:\n",
    "    Question-{Question}\n",
    "    Read the provided question.\n",
    "    Determine if the question can be answered definitively and accurately based solely on the information presented within the question itself.\n",
    "    If the question can be answered definitively and accurately without any ambiguity or uncertainty, respond with the one word as \"Independent\"\n",
    "    If the question contains ambiguous references or requires specific context or information from previous data to provide a correct response, respond with the one word as \"Dependent\"\n",
    "    If you are unsure or cannot answer the question with confidence, avoid guessing, and respond with the one word as \"Uncertain\"\n",
    "    \"\"\"\n",
    "    \n",
    "    prompt=PromptTemplate(\n",
    "    input_variables=[\"Question\"], \n",
    "    template=template\n",
    "    )\n",
    "    \n",
    "    clear_context(chat_id)\n",
    "    send_message(prompt.format(Question=Question),bot,chat_id)\n",
    "    reply = get_latest_message(bot)\n",
    "    reply=reply.split()\n",
    "    i=len(lst)-1\n",
    "    if reply[0] == \"Uncertain.\" or reply[0] == \"Dependent.\":\n",
    "        j=0\n",
    "        while i>=0 and j==0:\n",
    "            j=related(Question,lst[i])\n",
    "            i-=1\n",
    "    else:\n",
    "        clear_context(chat_id)\n",
    "        send_message(Question+\"Answer in less than 35 words\",bot,chat_id)\n",
    "        reply = get_latest_message(bot)\n",
    "        lst1.append(\"ChitChat:\"+reply+\"\\n\")\n",
    "        print(lst1[-1])\n",
    "        lst.append(reply)\n",
    "        \n",
    "        \n",
    "    \n",
    "    \n",
    "    \n",
    "    \n",
    "    "
   ]
  },
  {
   "cell_type": "code",
   "execution_count": 27,
   "metadata": {},
   "outputs": [],
   "source": [
    "\n",
    "lst1=[]\n",
    "lst=[]\n",
    "def chitchat(Question):\n",
    "    if len(lst1)==0:\n",
    "        lst1.append(\"ChitChat:Hi,how are you\"+\"\\n\")\n",
    "        print(lst1[0])\n",
    "        lst1.append(\"Human:\"+Question+\"\\n\")\n",
    "        print(lst1[-1])\n",
    "        clear_context(chat_id)\n",
    "        send_message(Question+\"Answer in less than 35 words\",bot,chat_id)\n",
    "        reply = get_latest_message(bot)\n",
    "        lst.append(reply)\n",
    "        lst1.append(\"ChitChat:\"+reply+\"\\n\")\n",
    "        print(lst1[-1])\n",
    "    else:\n",
    "        lst1.append(\"Human:\"+Question+\"\\n\")\n",
    "        for x in lst1:\n",
    "            print(x)\n",
    "        replyBot(Question)\n",
    "        \n",
    "    \n",
    "        \n",
    "        \n",
    "        \n",
    "    \n",
    "    \n",
    "    "
   ]
  },
  {
   "cell_type": "code",
   "execution_count": 29,
   "metadata": {},
   "outputs": [
    {
     "name": "stdout",
     "output_type": "stream",
     "text": [
      "ChitChat:Hi,how are you\n",
      "\n",
      "Human:Do gorillas fare well in closed enclosures?\n",
      "\n",
      "ChitChat:Gorillas can thrive in well-designed closed enclosures that provide sufficient space and enrichment, but care should be taken to ensure their physical and psychological needs are met.\n",
      "\n",
      "Human:It was killed by gun because a baby felt in the enclosure\n",
      "\n"
     ]
    }
   ],
   "source": [
    "#ChitChat:Hi,how are you............\n",
    "Text=  \"It was killed by gun because a baby felt in the enclosure\"\n",
    "chitchat(Text)"
   ]
  },
  {
   "cell_type": "code",
   "execution_count": null,
   "metadata": {},
   "outputs": [
    {
     "name": "stdout",
     "output_type": "stream",
     "text": [
      "Gorillas can adapt to living in closed enclosures, but it is not an ideal environment for them. Gorillas are social animals and in the wild, they live in complex social groups with their own hierarchies, communication systems, and social bonds. In captivity, they may not have the opportunity to form these natural relationships or engage in their usual behaviors, which can lead to stress, boredom, and health problems.\n",
      "\n",
      "In addition, gorillas are large and active animals that require a lot of space to move around and exercise. Keeping them in small enclosures can lead to physical health problems such as obesity and muscle atrophy. It can also lead to psychological issues such as depression and anxiety.\n",
      "\n",
      "Therefore, while it may be necessary to house gorillas in closed enclosures in certain situations, such as for their protection or because they are unable to survive in the wild, it is important to provide them with as much space and enrichment as possible to promote their physical and mental well-being.\n"
     ]
    }
   ],
   "source": [
    "print(lst[-1])"
   ]
  },
  {
   "cell_type": "code",
   "execution_count": null,
   "metadata": {},
   "outputs": [],
   "source": [
    "ChitChat:Hi,how are you\n",
    "\n",
    "Human:My name is Shivam Tarte\n",
    "\n",
    "ChitChat:Hello Shivam Tarte! How can I assist you today?\n",
    "\n",
    "Human:Who painted Mona Lisa?\n",
    "\n",
    "ChitChat:The Mona Lisa was painted by the Italian artist Leonardo da Vinci, one of the most famous and influential artists of the Renaissance period. The painting is believed to have been created between 1503 and 1506, and it is now on display at the Louvre Museum in Paris, France. The Mona Lisa is known for its enigmatic smile and has become an iconic symbol of art and culture around the world.\n",
    "\n",
    "Human:What are some other notable works by him?\n",
    "\n",
    "ChitChat:Notable works by Leonardo da Vinci include The Last Supper, Vitruvian Man, and the Codex Atlanticus.\n",
    "\n",
    "Human:What discoveries Albert Einstein made?\n",
    "\n",
    "ChitChat:Cannot answer as the question is not related to the given context."
   ]
  }
 ],
 "metadata": {
  "kernelspec": {
   "display_name": "Python 3",
   "language": "python",
   "name": "python3"
  },
  "language_info": {
   "codemirror_mode": {
    "name": "ipython",
    "version": 3
   },
   "file_extension": ".py",
   "mimetype": "text/x-python",
   "name": "python",
   "nbconvert_exporter": "python",
   "pygments_lexer": "ipython3",
   "version": "3.10.11"
  },
  "orig_nbformat": 4
 },
 "nbformat": 4,
 "nbformat_minor": 2
}
